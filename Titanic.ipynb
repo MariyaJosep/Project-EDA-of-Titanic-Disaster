{
  "nbformat": 4,
  "nbformat_minor": 0,
  "metadata": {
    "colab": {
      "provenance": [],
      "authorship_tag": "ABX9TyNFIE9Hf+rLLg0YIj2C1FDv",
      "include_colab_link": true
    },
    "kernelspec": {
      "name": "python3",
      "display_name": "Python 3"
    },
    "language_info": {
      "name": "python"
    }
  },
  "cells": [
    {
      "cell_type": "markdown",
      "metadata": {
        "id": "view-in-github",
        "colab_type": "text"
      },
      "source": [
        "<a href=\"https://colab.research.google.com/github/MariyaJosep/Project-EDA-of-Titanic-Disaster/blob/main/Titanic.ipynb\" target=\"_parent\"><img src=\"https://colab.research.google.com/assets/colab-badge.svg\" alt=\"Open In Colab\"/></a>"
      ]
    },
    {
      "cell_type": "code",
      "execution_count": null,
      "metadata": {
        "id": "tQKhOrplwpWG"
      },
      "outputs": [],
      "source": []
    },
    {
      "cell_type": "markdown",
      "source": [
        "**1.Study of Variables**\n"
      ],
      "metadata": {
        "id": "S-je79fPwtXl"
      }
    },
    {
      "cell_type": "code",
      "source": [
        "#First, we will import the necessary packages and load the data set.\n",
        "\n",
        "import pandas as pd\n",
        "import numpy as np\n",
        "import seaborn as sns\n",
        "import matplotlib.pyplot as plt\n",
        "df = pd.read_csv('train.csv')\n",
        "df"
      ],
      "metadata": {
        "colab": {
          "base_uri": "https://localhost:8080/",
          "height": 572
        },
        "id": "zwzXwoAFwvgt",
        "outputId": "05c0efc6-ef71-4bad-978c-9d5bee2a83bc"
      },
      "execution_count": null,
      "outputs": [
        {
          "output_type": "execute_result",
          "data": {
            "text/plain": [
              "     PassengerId  Survived  Pclass  \\\n",
              "0              1         0       3   \n",
              "1              2         1       1   \n",
              "2              3         1       3   \n",
              "3              4         1       1   \n",
              "4              5         0       3   \n",
              "..           ...       ...     ...   \n",
              "886          887         0       2   \n",
              "887          888         1       1   \n",
              "888          889         0       3   \n",
              "889          890         1       1   \n",
              "890          891         0       3   \n",
              "\n",
              "                                                  Name     Sex   Age  SibSp  \\\n",
              "0                              Braund, Mr. Owen Harris    male  22.0      1   \n",
              "1    Cumings, Mrs. John Bradley (Florence Briggs Th...  female  38.0      1   \n",
              "2                               Heikkinen, Miss. Laina  female  26.0      0   \n",
              "3         Futrelle, Mrs. Jacques Heath (Lily May Peel)  female  35.0      1   \n",
              "4                             Allen, Mr. William Henry    male  35.0      0   \n",
              "..                                                 ...     ...   ...    ...   \n",
              "886                              Montvila, Rev. Juozas    male  27.0      0   \n",
              "887                       Graham, Miss. Margaret Edith  female  19.0      0   \n",
              "888           Johnston, Miss. Catherine Helen \"Carrie\"  female   NaN      1   \n",
              "889                              Behr, Mr. Karl Howell    male  26.0      0   \n",
              "890                                Dooley, Mr. Patrick    male  32.0      0   \n",
              "\n",
              "     Parch            Ticket     Fare Cabin Embarked  \n",
              "0        0         A/5 21171   7.2500   NaN        S  \n",
              "1        0          PC 17599  71.2833   C85        C  \n",
              "2        0  STON/O2. 3101282   7.9250   NaN        S  \n",
              "3        0            113803  53.1000  C123        S  \n",
              "4        0            373450   8.0500   NaN        S  \n",
              "..     ...               ...      ...   ...      ...  \n",
              "886      0            211536  13.0000   NaN        S  \n",
              "887      0            112053  30.0000   B42        S  \n",
              "888      2        W./C. 6607  23.4500   NaN        S  \n",
              "889      0            111369  30.0000  C148        C  \n",
              "890      0            370376   7.7500   NaN        Q  \n",
              "\n",
              "[891 rows x 12 columns]"
            ],
            "text/html": [
              "\n",
              "  <div id=\"df-e217f150-9d6c-4551-98af-622e0c98b44d\">\n",
              "    <div class=\"colab-df-container\">\n",
              "      <div>\n",
              "<style scoped>\n",
              "    .dataframe tbody tr th:only-of-type {\n",
              "        vertical-align: middle;\n",
              "    }\n",
              "\n",
              "    .dataframe tbody tr th {\n",
              "        vertical-align: top;\n",
              "    }\n",
              "\n",
              "    .dataframe thead th {\n",
              "        text-align: right;\n",
              "    }\n",
              "</style>\n",
              "<table border=\"1\" class=\"dataframe\">\n",
              "  <thead>\n",
              "    <tr style=\"text-align: right;\">\n",
              "      <th></th>\n",
              "      <th>PassengerId</th>\n",
              "      <th>Survived</th>\n",
              "      <th>Pclass</th>\n",
              "      <th>Name</th>\n",
              "      <th>Sex</th>\n",
              "      <th>Age</th>\n",
              "      <th>SibSp</th>\n",
              "      <th>Parch</th>\n",
              "      <th>Ticket</th>\n",
              "      <th>Fare</th>\n",
              "      <th>Cabin</th>\n",
              "      <th>Embarked</th>\n",
              "    </tr>\n",
              "  </thead>\n",
              "  <tbody>\n",
              "    <tr>\n",
              "      <th>0</th>\n",
              "      <td>1</td>\n",
              "      <td>0</td>\n",
              "      <td>3</td>\n",
              "      <td>Braund, Mr. Owen Harris</td>\n",
              "      <td>male</td>\n",
              "      <td>22.0</td>\n",
              "      <td>1</td>\n",
              "      <td>0</td>\n",
              "      <td>A/5 21171</td>\n",
              "      <td>7.2500</td>\n",
              "      <td>NaN</td>\n",
              "      <td>S</td>\n",
              "    </tr>\n",
              "    <tr>\n",
              "      <th>1</th>\n",
              "      <td>2</td>\n",
              "      <td>1</td>\n",
              "      <td>1</td>\n",
              "      <td>Cumings, Mrs. John Bradley (Florence Briggs Th...</td>\n",
              "      <td>female</td>\n",
              "      <td>38.0</td>\n",
              "      <td>1</td>\n",
              "      <td>0</td>\n",
              "      <td>PC 17599</td>\n",
              "      <td>71.2833</td>\n",
              "      <td>C85</td>\n",
              "      <td>C</td>\n",
              "    </tr>\n",
              "    <tr>\n",
              "      <th>2</th>\n",
              "      <td>3</td>\n",
              "      <td>1</td>\n",
              "      <td>3</td>\n",
              "      <td>Heikkinen, Miss. Laina</td>\n",
              "      <td>female</td>\n",
              "      <td>26.0</td>\n",
              "      <td>0</td>\n",
              "      <td>0</td>\n",
              "      <td>STON/O2. 3101282</td>\n",
              "      <td>7.9250</td>\n",
              "      <td>NaN</td>\n",
              "      <td>S</td>\n",
              "    </tr>\n",
              "    <tr>\n",
              "      <th>3</th>\n",
              "      <td>4</td>\n",
              "      <td>1</td>\n",
              "      <td>1</td>\n",
              "      <td>Futrelle, Mrs. Jacques Heath (Lily May Peel)</td>\n",
              "      <td>female</td>\n",
              "      <td>35.0</td>\n",
              "      <td>1</td>\n",
              "      <td>0</td>\n",
              "      <td>113803</td>\n",
              "      <td>53.1000</td>\n",
              "      <td>C123</td>\n",
              "      <td>S</td>\n",
              "    </tr>\n",
              "    <tr>\n",
              "      <th>4</th>\n",
              "      <td>5</td>\n",
              "      <td>0</td>\n",
              "      <td>3</td>\n",
              "      <td>Allen, Mr. William Henry</td>\n",
              "      <td>male</td>\n",
              "      <td>35.0</td>\n",
              "      <td>0</td>\n",
              "      <td>0</td>\n",
              "      <td>373450</td>\n",
              "      <td>8.0500</td>\n",
              "      <td>NaN</td>\n",
              "      <td>S</td>\n",
              "    </tr>\n",
              "    <tr>\n",
              "      <th>...</th>\n",
              "      <td>...</td>\n",
              "      <td>...</td>\n",
              "      <td>...</td>\n",
              "      <td>...</td>\n",
              "      <td>...</td>\n",
              "      <td>...</td>\n",
              "      <td>...</td>\n",
              "      <td>...</td>\n",
              "      <td>...</td>\n",
              "      <td>...</td>\n",
              "      <td>...</td>\n",
              "      <td>...</td>\n",
              "    </tr>\n",
              "    <tr>\n",
              "      <th>886</th>\n",
              "      <td>887</td>\n",
              "      <td>0</td>\n",
              "      <td>2</td>\n",
              "      <td>Montvila, Rev. Juozas</td>\n",
              "      <td>male</td>\n",
              "      <td>27.0</td>\n",
              "      <td>0</td>\n",
              "      <td>0</td>\n",
              "      <td>211536</td>\n",
              "      <td>13.0000</td>\n",
              "      <td>NaN</td>\n",
              "      <td>S</td>\n",
              "    </tr>\n",
              "    <tr>\n",
              "      <th>887</th>\n",
              "      <td>888</td>\n",
              "      <td>1</td>\n",
              "      <td>1</td>\n",
              "      <td>Graham, Miss. Margaret Edith</td>\n",
              "      <td>female</td>\n",
              "      <td>19.0</td>\n",
              "      <td>0</td>\n",
              "      <td>0</td>\n",
              "      <td>112053</td>\n",
              "      <td>30.0000</td>\n",
              "      <td>B42</td>\n",
              "      <td>S</td>\n",
              "    </tr>\n",
              "    <tr>\n",
              "      <th>888</th>\n",
              "      <td>889</td>\n",
              "      <td>0</td>\n",
              "      <td>3</td>\n",
              "      <td>Johnston, Miss. Catherine Helen \"Carrie\"</td>\n",
              "      <td>female</td>\n",
              "      <td>NaN</td>\n",
              "      <td>1</td>\n",
              "      <td>2</td>\n",
              "      <td>W./C. 6607</td>\n",
              "      <td>23.4500</td>\n",
              "      <td>NaN</td>\n",
              "      <td>S</td>\n",
              "    </tr>\n",
              "    <tr>\n",
              "      <th>889</th>\n",
              "      <td>890</td>\n",
              "      <td>1</td>\n",
              "      <td>1</td>\n",
              "      <td>Behr, Mr. Karl Howell</td>\n",
              "      <td>male</td>\n",
              "      <td>26.0</td>\n",
              "      <td>0</td>\n",
              "      <td>0</td>\n",
              "      <td>111369</td>\n",
              "      <td>30.0000</td>\n",
              "      <td>C148</td>\n",
              "      <td>C</td>\n",
              "    </tr>\n",
              "    <tr>\n",
              "      <th>890</th>\n",
              "      <td>891</td>\n",
              "      <td>0</td>\n",
              "      <td>3</td>\n",
              "      <td>Dooley, Mr. Patrick</td>\n",
              "      <td>male</td>\n",
              "      <td>32.0</td>\n",
              "      <td>0</td>\n",
              "      <td>0</td>\n",
              "      <td>370376</td>\n",
              "      <td>7.7500</td>\n",
              "      <td>NaN</td>\n",
              "      <td>Q</td>\n",
              "    </tr>\n",
              "  </tbody>\n",
              "</table>\n",
              "<p>891 rows × 12 columns</p>\n",
              "</div>\n",
              "      <button class=\"colab-df-convert\" onclick=\"convertToInteractive('df-e217f150-9d6c-4551-98af-622e0c98b44d')\"\n",
              "              title=\"Convert this dataframe to an interactive table.\"\n",
              "              style=\"display:none;\">\n",
              "        \n",
              "  <svg xmlns=\"http://www.w3.org/2000/svg\" height=\"24px\"viewBox=\"0 0 24 24\"\n",
              "       width=\"24px\">\n",
              "    <path d=\"M0 0h24v24H0V0z\" fill=\"none\"/>\n",
              "    <path d=\"M18.56 5.44l.94 2.06.94-2.06 2.06-.94-2.06-.94-.94-2.06-.94 2.06-2.06.94zm-11 1L8.5 8.5l.94-2.06 2.06-.94-2.06-.94L8.5 2.5l-.94 2.06-2.06.94zm10 10l.94 2.06.94-2.06 2.06-.94-2.06-.94-.94-2.06-.94 2.06-2.06.94z\"/><path d=\"M17.41 7.96l-1.37-1.37c-.4-.4-.92-.59-1.43-.59-.52 0-1.04.2-1.43.59L10.3 9.45l-7.72 7.72c-.78.78-.78 2.05 0 2.83L4 21.41c.39.39.9.59 1.41.59.51 0 1.02-.2 1.41-.59l7.78-7.78 2.81-2.81c.8-.78.8-2.07 0-2.86zM5.41 20L4 18.59l7.72-7.72 1.47 1.35L5.41 20z\"/>\n",
              "  </svg>\n",
              "      </button>\n",
              "      \n",
              "  <style>\n",
              "    .colab-df-container {\n",
              "      display:flex;\n",
              "      flex-wrap:wrap;\n",
              "      gap: 12px;\n",
              "    }\n",
              "\n",
              "    .colab-df-convert {\n",
              "      background-color: #E8F0FE;\n",
              "      border: none;\n",
              "      border-radius: 50%;\n",
              "      cursor: pointer;\n",
              "      display: none;\n",
              "      fill: #1967D2;\n",
              "      height: 32px;\n",
              "      padding: 0 0 0 0;\n",
              "      width: 32px;\n",
              "    }\n",
              "\n",
              "    .colab-df-convert:hover {\n",
              "      background-color: #E2EBFA;\n",
              "      box-shadow: 0px 1px 2px rgba(60, 64, 67, 0.3), 0px 1px 3px 1px rgba(60, 64, 67, 0.15);\n",
              "      fill: #174EA6;\n",
              "    }\n",
              "\n",
              "    [theme=dark] .colab-df-convert {\n",
              "      background-color: #3B4455;\n",
              "      fill: #D2E3FC;\n",
              "    }\n",
              "\n",
              "    [theme=dark] .colab-df-convert:hover {\n",
              "      background-color: #434B5C;\n",
              "      box-shadow: 0px 1px 3px 1px rgba(0, 0, 0, 0.15);\n",
              "      filter: drop-shadow(0px 1px 2px rgba(0, 0, 0, 0.3));\n",
              "      fill: #FFFFFF;\n",
              "    }\n",
              "  </style>\n",
              "\n",
              "      <script>\n",
              "        const buttonEl =\n",
              "          document.querySelector('#df-e217f150-9d6c-4551-98af-622e0c98b44d button.colab-df-convert');\n",
              "        buttonEl.style.display =\n",
              "          google.colab.kernel.accessAllowed ? 'block' : 'none';\n",
              "\n",
              "        async function convertToInteractive(key) {\n",
              "          const element = document.querySelector('#df-e217f150-9d6c-4551-98af-622e0c98b44d');\n",
              "          const dataTable =\n",
              "            await google.colab.kernel.invokeFunction('convertToInteractive',\n",
              "                                                     [key], {});\n",
              "          if (!dataTable) return;\n",
              "\n",
              "          const docLinkHtml = 'Like what you see? Visit the ' +\n",
              "            '<a target=\"_blank\" href=https://colab.research.google.com/notebooks/data_table.ipynb>data table notebook</a>'\n",
              "            + ' to learn more about interactive tables.';\n",
              "          element.innerHTML = '';\n",
              "          dataTable['output_type'] = 'display_data';\n",
              "          await google.colab.output.renderOutput(dataTable, element);\n",
              "          const docLink = document.createElement('div');\n",
              "          docLink.innerHTML = docLinkHtml;\n",
              "          element.appendChild(docLink);\n",
              "        }\n",
              "      </script>\n",
              "    </div>\n",
              "  </div>\n",
              "  "
            ]
          },
          "metadata": {},
          "execution_count": 1
        }
      ]
    },
    {
      "cell_type": "code",
      "source": [
        "cols = df.columns\n",
        "cols"
      ],
      "metadata": {
        "colab": {
          "base_uri": "https://localhost:8080/"
        },
        "id": "PayPTRRvxH0c",
        "outputId": "86317916-5a57-4b77-c336-a5df922ad8fa"
      },
      "execution_count": null,
      "outputs": [
        {
          "output_type": "execute_result",
          "data": {
            "text/plain": [
              "Index(['PassengerId', 'Survived', 'Pclass', 'Name', 'Sex', 'Age', 'SibSp',\n",
              "       'Parch', 'Ticket', 'Fare', 'Cabin', 'Embarked'],\n",
              "      dtype='object')"
            ]
          },
          "metadata": {},
          "execution_count": 2
        }
      ]
    },
    {
      "cell_type": "code",
      "source": [
        "df.describe()"
      ],
      "metadata": {
        "colab": {
          "base_uri": "https://localhost:8080/",
          "height": 300
        },
        "id": "uupvSxQHxMHk",
        "outputId": "64a7fe8e-c325-41af-dda9-a280f7721e83"
      },
      "execution_count": null,
      "outputs": [
        {
          "output_type": "execute_result",
          "data": {
            "text/plain": [
              "       PassengerId    Survived      Pclass         Age       SibSp  \\\n",
              "count   891.000000  891.000000  891.000000  714.000000  891.000000   \n",
              "mean    446.000000    0.383838    2.308642   29.699118    0.523008   \n",
              "std     257.353842    0.486592    0.836071   14.526497    1.102743   \n",
              "min       1.000000    0.000000    1.000000    0.420000    0.000000   \n",
              "25%     223.500000    0.000000    2.000000   20.125000    0.000000   \n",
              "50%     446.000000    0.000000    3.000000   28.000000    0.000000   \n",
              "75%     668.500000    1.000000    3.000000   38.000000    1.000000   \n",
              "max     891.000000    1.000000    3.000000   80.000000    8.000000   \n",
              "\n",
              "            Parch        Fare  \n",
              "count  891.000000  891.000000  \n",
              "mean     0.381594   32.204208  \n",
              "std      0.806057   49.693429  \n",
              "min      0.000000    0.000000  \n",
              "25%      0.000000    7.910400  \n",
              "50%      0.000000   14.454200  \n",
              "75%      0.000000   31.000000  \n",
              "max      6.000000  512.329200  "
            ],
            "text/html": [
              "\n",
              "  <div id=\"df-f29a4881-3b90-4922-9888-f83a6570dc26\">\n",
              "    <div class=\"colab-df-container\">\n",
              "      <div>\n",
              "<style scoped>\n",
              "    .dataframe tbody tr th:only-of-type {\n",
              "        vertical-align: middle;\n",
              "    }\n",
              "\n",
              "    .dataframe tbody tr th {\n",
              "        vertical-align: top;\n",
              "    }\n",
              "\n",
              "    .dataframe thead th {\n",
              "        text-align: right;\n",
              "    }\n",
              "</style>\n",
              "<table border=\"1\" class=\"dataframe\">\n",
              "  <thead>\n",
              "    <tr style=\"text-align: right;\">\n",
              "      <th></th>\n",
              "      <th>PassengerId</th>\n",
              "      <th>Survived</th>\n",
              "      <th>Pclass</th>\n",
              "      <th>Age</th>\n",
              "      <th>SibSp</th>\n",
              "      <th>Parch</th>\n",
              "      <th>Fare</th>\n",
              "    </tr>\n",
              "  </thead>\n",
              "  <tbody>\n",
              "    <tr>\n",
              "      <th>count</th>\n",
              "      <td>891.000000</td>\n",
              "      <td>891.000000</td>\n",
              "      <td>891.000000</td>\n",
              "      <td>714.000000</td>\n",
              "      <td>891.000000</td>\n",
              "      <td>891.000000</td>\n",
              "      <td>891.000000</td>\n",
              "    </tr>\n",
              "    <tr>\n",
              "      <th>mean</th>\n",
              "      <td>446.000000</td>\n",
              "      <td>0.383838</td>\n",
              "      <td>2.308642</td>\n",
              "      <td>29.699118</td>\n",
              "      <td>0.523008</td>\n",
              "      <td>0.381594</td>\n",
              "      <td>32.204208</td>\n",
              "    </tr>\n",
              "    <tr>\n",
              "      <th>std</th>\n",
              "      <td>257.353842</td>\n",
              "      <td>0.486592</td>\n",
              "      <td>0.836071</td>\n",
              "      <td>14.526497</td>\n",
              "      <td>1.102743</td>\n",
              "      <td>0.806057</td>\n",
              "      <td>49.693429</td>\n",
              "    </tr>\n",
              "    <tr>\n",
              "      <th>min</th>\n",
              "      <td>1.000000</td>\n",
              "      <td>0.000000</td>\n",
              "      <td>1.000000</td>\n",
              "      <td>0.420000</td>\n",
              "      <td>0.000000</td>\n",
              "      <td>0.000000</td>\n",
              "      <td>0.000000</td>\n",
              "    </tr>\n",
              "    <tr>\n",
              "      <th>25%</th>\n",
              "      <td>223.500000</td>\n",
              "      <td>0.000000</td>\n",
              "      <td>2.000000</td>\n",
              "      <td>20.125000</td>\n",
              "      <td>0.000000</td>\n",
              "      <td>0.000000</td>\n",
              "      <td>7.910400</td>\n",
              "    </tr>\n",
              "    <tr>\n",
              "      <th>50%</th>\n",
              "      <td>446.000000</td>\n",
              "      <td>0.000000</td>\n",
              "      <td>3.000000</td>\n",
              "      <td>28.000000</td>\n",
              "      <td>0.000000</td>\n",
              "      <td>0.000000</td>\n",
              "      <td>14.454200</td>\n",
              "    </tr>\n",
              "    <tr>\n",
              "      <th>75%</th>\n",
              "      <td>668.500000</td>\n",
              "      <td>1.000000</td>\n",
              "      <td>3.000000</td>\n",
              "      <td>38.000000</td>\n",
              "      <td>1.000000</td>\n",
              "      <td>0.000000</td>\n",
              "      <td>31.000000</td>\n",
              "    </tr>\n",
              "    <tr>\n",
              "      <th>max</th>\n",
              "      <td>891.000000</td>\n",
              "      <td>1.000000</td>\n",
              "      <td>3.000000</td>\n",
              "      <td>80.000000</td>\n",
              "      <td>8.000000</td>\n",
              "      <td>6.000000</td>\n",
              "      <td>512.329200</td>\n",
              "    </tr>\n",
              "  </tbody>\n",
              "</table>\n",
              "</div>\n",
              "      <button class=\"colab-df-convert\" onclick=\"convertToInteractive('df-f29a4881-3b90-4922-9888-f83a6570dc26')\"\n",
              "              title=\"Convert this dataframe to an interactive table.\"\n",
              "              style=\"display:none;\">\n",
              "        \n",
              "  <svg xmlns=\"http://www.w3.org/2000/svg\" height=\"24px\"viewBox=\"0 0 24 24\"\n",
              "       width=\"24px\">\n",
              "    <path d=\"M0 0h24v24H0V0z\" fill=\"none\"/>\n",
              "    <path d=\"M18.56 5.44l.94 2.06.94-2.06 2.06-.94-2.06-.94-.94-2.06-.94 2.06-2.06.94zm-11 1L8.5 8.5l.94-2.06 2.06-.94-2.06-.94L8.5 2.5l-.94 2.06-2.06.94zm10 10l.94 2.06.94-2.06 2.06-.94-2.06-.94-.94-2.06-.94 2.06-2.06.94z\"/><path d=\"M17.41 7.96l-1.37-1.37c-.4-.4-.92-.59-1.43-.59-.52 0-1.04.2-1.43.59L10.3 9.45l-7.72 7.72c-.78.78-.78 2.05 0 2.83L4 21.41c.39.39.9.59 1.41.59.51 0 1.02-.2 1.41-.59l7.78-7.78 2.81-2.81c.8-.78.8-2.07 0-2.86zM5.41 20L4 18.59l7.72-7.72 1.47 1.35L5.41 20z\"/>\n",
              "  </svg>\n",
              "      </button>\n",
              "      \n",
              "  <style>\n",
              "    .colab-df-container {\n",
              "      display:flex;\n",
              "      flex-wrap:wrap;\n",
              "      gap: 12px;\n",
              "    }\n",
              "\n",
              "    .colab-df-convert {\n",
              "      background-color: #E8F0FE;\n",
              "      border: none;\n",
              "      border-radius: 50%;\n",
              "      cursor: pointer;\n",
              "      display: none;\n",
              "      fill: #1967D2;\n",
              "      height: 32px;\n",
              "      padding: 0 0 0 0;\n",
              "      width: 32px;\n",
              "    }\n",
              "\n",
              "    .colab-df-convert:hover {\n",
              "      background-color: #E2EBFA;\n",
              "      box-shadow: 0px 1px 2px rgba(60, 64, 67, 0.3), 0px 1px 3px 1px rgba(60, 64, 67, 0.15);\n",
              "      fill: #174EA6;\n",
              "    }\n",
              "\n",
              "    [theme=dark] .colab-df-convert {\n",
              "      background-color: #3B4455;\n",
              "      fill: #D2E3FC;\n",
              "    }\n",
              "\n",
              "    [theme=dark] .colab-df-convert:hover {\n",
              "      background-color: #434B5C;\n",
              "      box-shadow: 0px 1px 3px 1px rgba(0, 0, 0, 0.15);\n",
              "      filter: drop-shadow(0px 1px 2px rgba(0, 0, 0, 0.3));\n",
              "      fill: #FFFFFF;\n",
              "    }\n",
              "  </style>\n",
              "\n",
              "      <script>\n",
              "        const buttonEl =\n",
              "          document.querySelector('#df-f29a4881-3b90-4922-9888-f83a6570dc26 button.colab-df-convert');\n",
              "        buttonEl.style.display =\n",
              "          google.colab.kernel.accessAllowed ? 'block' : 'none';\n",
              "\n",
              "        async function convertToInteractive(key) {\n",
              "          const element = document.querySelector('#df-f29a4881-3b90-4922-9888-f83a6570dc26');\n",
              "          const dataTable =\n",
              "            await google.colab.kernel.invokeFunction('convertToInteractive',\n",
              "                                                     [key], {});\n",
              "          if (!dataTable) return;\n",
              "\n",
              "          const docLinkHtml = 'Like what you see? Visit the ' +\n",
              "            '<a target=\"_blank\" href=https://colab.research.google.com/notebooks/data_table.ipynb>data table notebook</a>'\n",
              "            + ' to learn more about interactive tables.';\n",
              "          element.innerHTML = '';\n",
              "          dataTable['output_type'] = 'display_data';\n",
              "          await google.colab.output.renderOutput(dataTable, element);\n",
              "          const docLink = document.createElement('div');\n",
              "          docLink.innerHTML = docLinkHtml;\n",
              "          element.appendChild(docLink);\n",
              "        }\n",
              "      </script>\n",
              "    </div>\n",
              "  </div>\n",
              "  "
            ]
          },
          "metadata": {},
          "execution_count": 3
        }
      ]
    },
    {
      "cell_type": "code",
      "source": [
        "df.info()"
      ],
      "metadata": {
        "colab": {
          "base_uri": "https://localhost:8080/"
        },
        "id": "8bEWXNd4xWDt",
        "outputId": "b9465f91-a2c4-45a9-fe3a-2baa8d144332"
      },
      "execution_count": null,
      "outputs": [
        {
          "output_type": "stream",
          "name": "stdout",
          "text": [
            "<class 'pandas.core.frame.DataFrame'>\n",
            "RangeIndex: 891 entries, 0 to 890\n",
            "Data columns (total 12 columns):\n",
            " #   Column       Non-Null Count  Dtype  \n",
            "---  ------       --------------  -----  \n",
            " 0   PassengerId  891 non-null    int64  \n",
            " 1   Survived     891 non-null    int64  \n",
            " 2   Pclass       891 non-null    int64  \n",
            " 3   Name         891 non-null    object \n",
            " 4   Sex          891 non-null    object \n",
            " 5   Age          714 non-null    float64\n",
            " 6   SibSp        891 non-null    int64  \n",
            " 7   Parch        891 non-null    int64  \n",
            " 8   Ticket       891 non-null    object \n",
            " 9   Fare         891 non-null    float64\n",
            " 10  Cabin        204 non-null    object \n",
            " 11  Embarked     889 non-null    object \n",
            "dtypes: float64(2), int64(5), object(5)\n",
            "memory usage: 83.7+ KB\n"
          ]
        }
      ]
    },
    {
      "cell_type": "code",
      "source": [
        "df.isnull().sum()"
      ],
      "metadata": {
        "colab": {
          "base_uri": "https://localhost:8080/"
        },
        "id": "9Db4MjAXxbxu",
        "outputId": "141c610c-3544-4016-8c40-f8b1c5d87167"
      },
      "execution_count": null,
      "outputs": [
        {
          "output_type": "execute_result",
          "data": {
            "text/plain": [
              "PassengerId      0\n",
              "Survived         0\n",
              "Pclass           0\n",
              "Name             0\n",
              "Sex              0\n",
              "Age            177\n",
              "SibSp            0\n",
              "Parch            0\n",
              "Ticket           0\n",
              "Fare             0\n",
              "Cabin          687\n",
              "Embarked         2\n",
              "dtype: int64"
            ]
          },
          "metadata": {},
          "execution_count": 5
        }
      ]
    },
    {
      "cell_type": "code",
      "source": [
        "sns.heatmap(df.isnull(), cmap = 'viridis', cbar=False)\n",
        "\n",
        "# Since the ‘Embarked’ column has only 2 null values, it's not visible in the heatmap."
      ],
      "metadata": {
        "colab": {
          "base_uri": "https://localhost:8080/",
          "height": 338
        },
        "id": "NnVauOkMxg0N",
        "outputId": "3da1a1f3-e51d-4036-e801-b8ee60de61ee"
      },
      "execution_count": null,
      "outputs": [
        {
          "output_type": "execute_result",
          "data": {
            "text/plain": [
              "<matplotlib.axes._subplots.AxesSubplot at 0x7f4e888ad070>"
            ]
          },
          "metadata": {},
          "execution_count": 6
        },
        {
          "output_type": "display_data",
          "data": {
            "text/plain": [
              "<Figure size 432x288 with 1 Axes>"
            ],
            "image/png": "[encoded data removed]"
          },
          "metadata": {
            "needs_background": "light"
          }
        }
      ]
    },
    {
      "cell_type": "markdown",
      "source": [
        "**2. Data Cleaning**"
      ],
      "metadata": {
        "id": "fCMHztNtxtXO"
      }
    },
    {
      "cell_type": "code",
      "source": [
        "#Since the ‘Cabin’ column has got more NaN values, let's fix it first. \n",
        "#The cabin column has the cabin number of the passenger or NaN for those \n",
        "#who didn’t have one. Let's create a new column ‘HasCabin’ which has 1 \n",
        "#if there is a cabin and 0 for NaN.\n",
        "\n",
        "def create_feat_has_cabin(df, colname):\n",
        "    # if NA => 0 else 1\n",
        "    def _is_nan(x):\n",
        "        if isinstance(x, type(np.nan)):\n",
        "            return 0\n",
        "        return 1\n",
        "        \n",
        "    return df[colname].apply(_is_nan)\n",
        "    \n",
        "df['HasCabin'] = create_feat_has_cabin(df, 'Cabin')\n",
        "\n",
        "# Now, let's fill NA values of the Embarked column with ‘S’(Southampton)\n",
        "\n",
        "def fill_na_embarked(df, colname):\n",
        "    \n",
        "    return df[colname].fillna('S')\n",
        "    \n",
        "df['Embarked'] = fill_na_embarked(df, 'Embarked')"
      ],
      "metadata": {
        "id": "ncm68uTTxycl"
      },
      "execution_count": null,
      "outputs": []
    },
    {
      "cell_type": "markdown",
      "source": [
        "Similarly, the Age column has a lot of missing values. Hence we fill the missing values with random values centered around mean and (spread out) distributed with standard deviation, sd. Let's get the mean and standard deviation first."
      ],
      "metadata": {
        "id": "C30iTT9-yZuP"
      }
    },
    {
      "cell_type": "code",
      "source": [
        "mean = df['Age'].mean()\n",
        "sd = df['Age'].std()\n",
        "print(mean,sd)"
      ],
      "metadata": {
        "colab": {
          "base_uri": "https://localhost:8080/"
        },
        "id": "aeyx7XWaycod",
        "outputId": "61ff78b9-5e3f-4151-96d9-6459afcc960c"
      },
      "execution_count": null,
      "outputs": [
        {
          "output_type": "stream",
          "name": "stdout",
          "text": [
            "29.69911764705882 14.526497332334042\n"
          ]
        }
      ]
    },
    {
      "cell_type": "markdown",
      "source": [
        "The mean of the dataset is 29.48 and the standard deviation of the dataset is 13.53. Hence we fill the missing values by choosing a random number between 16 and 43."
      ],
      "metadata": {
        "id": "DyUiSdrnylV-"
      }
    },
    {
      "cell_type": "code",
      "source": [
        "def fill_na_age(df, colname):\n",
        "    mean = df['Age'].mean()\n",
        "    sd = df['Age'].std()\n",
        "    def fill_empty(x):\n",
        "        if np.isnan(x):\n",
        "            return np.random.randint(mean-sd, mean+sd, ())\n",
        "        return x\n",
        "    return df[colname].apply(fill_empty).astype(int)\n",
        "df['Age'] = fill_na_age(df, 'Age')"
      ],
      "metadata": {
        "id": "Uo2bzz-RymoX"
      },
      "execution_count": null,
      "outputs": []
    },
    {
      "cell_type": "markdown",
      "source": [
        "Feature Engineering"
      ],
      "metadata": {
        "id": "9-z56ptVy1xW"
      }
    },
    {
      "cell_type": "code",
      "source": [
        "#We have filled all the missing values in our data.\n",
        "# In this section, we put on our creative hats and think up new features\n",
        "# that could help our yet-be-built model’s performance.\n",
        "\n",
        "#First, let's create a new column ‘FamilySize’ by combining\n",
        "# ‘SibSp’(Sibling & Spouse) and ‘Parch’(Parent & Children).\n",
        "\n",
        "def create_feat_familly_size(df):\n",
        "    return df['SibSp'] + df['Parch'] + 1\n",
        "    \n",
        "df['FamilySize'] = create_feat_familly_size(df)"
      ],
      "metadata": {
        "id": "tXEQgRQdy26M"
      },
      "execution_count": null,
      "outputs": []
    },
    {
      "cell_type": "code",
      "source": [
        "# What about the ones traveling solo? We create a new column named ‘IsAlone’ with 0 and 1.\n",
        "\n",
        "def create_feat_isalone(df, colname):\n",
        "    def _is_alone(x):\n",
        "        if x==1:\n",
        "            return 1\n",
        "        return 0\n",
        "    \n",
        "    return df[colname].apply(_is_alone)\n",
        "    \n",
        "df['IsAlone'] = create_feat_isalone(df, 'FamilySize')"
      ],
      "metadata": {
        "id": "lvqHGAn_zONM"
      },
      "execution_count": null,
      "outputs": []
    },
    {
      "cell_type": "code",
      "source": [
        "# As we have seen earlier, the Fare column contains 0’s for some passengers \n",
        "#and notoriously high values for some passengers. \n",
        "#So lets split the fare into four categories and store \n",
        "# it in a new column “CategoricalFare”\n",
        "\n",
        "def create_feat_categoricalFare(df, colname):\n",
        "    return pd.qcut(df[colname], 4, labels = [0, 1, 2, 3]).astype(int)\n",
        "df['CategoricalFare'] = create_feat_categoricalFare(df, 'Fare')"
      ],
      "metadata": {
        "id": "ubwQa-jpzcI9"
      },
      "execution_count": null,
      "outputs": []
    },
    {
      "cell_type": "code",
      "source": [
        "# Now let's categorize the age into 5 categories and store it into a new column “CategoricalAge”\n",
        "\n",
        "def create_feat_categoricalAge(df, colname):\n",
        "    return pd.qcut(df[colname], 5, labels = [0, 1, 2, 3, 4]).astype(int)\n",
        "df['CategoricalAge'] = create_feat_categoricalAge(df, 'Age')"
      ],
      "metadata": {
        "id": "uCtPEq5d0FC0"
      },
      "execution_count": null,
      "outputs": []
    },
    {
      "cell_type": "code",
      "source": [
        "# extract the title from each name and categorize the titles into four categories namely Mr, Miss, Mrs & Rare,\n",
        "# and store it in a new column ‘Title’.\n",
        "\n",
        "import re\n",
        "def create_feat_title(df, colname):\n",
        "    def find_title(x):\n",
        "        title_search = re.search(' ([A-Za-z]+)\\.', x)\n",
        "        if title_search:\n",
        "            title = title_search.group(1)\n",
        "            if title in ['Mlle', 'Ms']:\n",
        "                return 'Miss'\n",
        "            elif title in ['Mme', 'Mrs']:\n",
        "                return 'Mrs'\n",
        "            elif title=='Mr':\n",
        "                return 'Mr'           \n",
        "            else:\n",
        "                return 'Rare'\n",
        "        return \"\"\n",
        "    \n",
        "    return_title= df[colname].apply(find_title)\n",
        "    dict_title = {'Miss': 1, 'Mrs':2, 'Mr':3, 'Rare':4}\n",
        "    return return_title.replace(dict_title)\n",
        "df['Title'] = create_feat_title(df, 'Name')"
      ],
      "metadata": {
        "id": "nHxx8VDI0cvl"
      },
      "execution_count": null,
      "outputs": []
    },
    {
      "cell_type": "code",
      "source": [
        "#we might as well change the values of the Embarked column to numerical.\n",
        "\n",
        "def create_feat_sex(df, colname):\n",
        "    def sex(x):\n",
        "        if x=='male':\n",
        "            return 1\n",
        "        return 0\n",
        "    \n",
        "    return df[colname].apply(sex)\n",
        "    \n",
        "df['SexNumerical'] = create_feat_sex(df, 'Sex')\n",
        "df['Embarked'] = df.Embarked.replace({'S': 0, 'C' : 1, 'Q' : 2})"
      ],
      "metadata": {
        "id": "_XM6syGj0zuN"
      },
      "execution_count": null,
      "outputs": []
    },
    {
      "cell_type": "code",
      "source": [
        "# Let's check if there are any more null values present in the data frame.\n",
        "\n",
        "df.isna().sum()"
      ],
      "metadata": {
        "colab": {
          "base_uri": "https://localhost:8080/"
        },
        "id": "IzB3iHef09X0",
        "outputId": "6cc4a2ab-9d37-4528-f1e5-de48dc66045a"
      },
      "execution_count": null,
      "outputs": [
        {
          "output_type": "execute_result",
          "data": {
            "text/plain": [
              "PassengerId          0\n",
              "Survived             0\n",
              "Pclass               0\n",
              "Name                 0\n",
              "Sex                  0\n",
              "Age                  0\n",
              "SibSp                0\n",
              "Parch                0\n",
              "Ticket               0\n",
              "Fare                 0\n",
              "Cabin              687\n",
              "Embarked             0\n",
              "HasCabin             0\n",
              "FamilySize           0\n",
              "IsAlone              0\n",
              "CategoricalFare      0\n",
              "CategoricalAge       0\n",
              "Title                0\n",
              "SexNumerical         0\n",
              "dtype: int64"
            ]
          },
          "metadata": {},
          "execution_count": 18
        }
      ]
    },
    {
      "cell_type": "code",
      "source": [
        "# Time to drop the useless columns.\n",
        "\n",
        "drop_list = ['PassengerId', 'Cabin', 'Ticket', 'SibSp', 'Name']\n",
        "titanic = df.drop(drop_list, axis=1)"
      ],
      "metadata": {
        "id": "tKIn-v631J-b"
      },
      "execution_count": null,
      "outputs": []
    },
    {
      "cell_type": "markdown",
      "source": [
        "**3. Correlation Study**"
      ],
      "metadata": {
        "id": "-qVfqqmy1TwM"
      }
    },
    {
      "cell_type": "code",
      "source": [
        "# We are done with Data Cleaning and Pre-processing.\n",
        "\n",
        "# Before visualizing the data, let's see the correlation between the variables.\n",
        "\n",
        "corrmat = titanic.corr()\n",
        "corrmat"
      ],
      "metadata": {
        "colab": {
          "base_uri": "https://localhost:8080/",
          "height": 521
        },
        "id": "iaP2bDNv1Und",
        "outputId": "3fdce62d-6171-4ce4-d53c-ac1508dd78ae"
      },
      "execution_count": null,
      "outputs": [
        {
          "output_type": "execute_result",
          "data": {
            "text/plain": [
              "                 Survived    Pclass       Age     Parch      Fare  Embarked  \\\n",
              "Survived         1.000000 -0.338481 -0.061771  0.081629  0.257307  0.106811   \n",
              "Pclass          -0.338481  1.000000 -0.299575  0.018443 -0.549500  0.045702   \n",
              "Age             -0.061771 -0.299575  1.000000 -0.165092  0.074847  0.004051   \n",
              "Parch            0.081629  0.018443 -0.165092  1.000000  0.216225 -0.078665   \n",
              "Fare             0.257307 -0.549500  0.074847  0.216225  1.000000  0.062142   \n",
              "Embarked         0.106811  0.045702  0.004051 -0.078665  0.062142  1.000000   \n",
              "HasCabin         0.316912 -0.725541  0.221215  0.036987  0.482075  0.013774   \n",
              "FamilySize       0.016639  0.065997 -0.234268  0.783111  0.217138 -0.080281   \n",
              "IsAlone         -0.203367  0.135207  0.181377 -0.583398 -0.271832  0.017807   \n",
              "CategoricalFare  0.299357 -0.634271  0.054318  0.393881  0.579345 -0.098161   \n",
              "CategoricalAge  -0.028943 -0.258409  0.923139 -0.115120  0.067115 -0.012540   \n",
              "Title            0.030949  0.075428 -0.287545  0.021398  0.021076  0.121285   \n",
              "SexNumerical    -0.543351  0.131900  0.066284 -0.245489 -0.182333 -0.116569   \n",
              "\n",
              "                 HasCabin  FamilySize   IsAlone  CategoricalFare  \\\n",
              "Survived         0.316912    0.016639 -0.203367         0.299357   \n",
              "Pclass          -0.725541    0.065997  0.135207        -0.634271   \n",
              "Age              0.221215   -0.234268  0.181377         0.054318   \n",
              "Parch            0.036987    0.783111 -0.583398         0.393881   \n",
              "Fare             0.482075    0.217138 -0.271832         0.579345   \n",
              "Embarked         0.013774   -0.080281  0.017807        -0.098161   \n",
              "HasCabin         1.000000   -0.009175 -0.158029         0.500936   \n",
              "FamilySize      -0.009175    1.000000 -0.690922         0.465396   \n",
              "IsAlone         -0.158029   -0.690922  1.000000        -0.560279   \n",
              "CategoricalFare  0.500936    0.465396 -0.560279         1.000000   \n",
              "CategoricalAge   0.191287   -0.179884  0.128043         0.068054   \n",
              "Title           -0.045148    0.101470  0.074505        -0.045563   \n",
              "SexNumerical    -0.140391   -0.200988  0.303646        -0.243613   \n",
              "\n",
              "                 CategoricalAge     Title  SexNumerical  \n",
              "Survived              -0.028943  0.030949     -0.543351  \n",
              "Pclass                -0.258409  0.075428      0.131900  \n",
              "Age                    0.923139 -0.287545      0.066284  \n",
              "Parch                 -0.115120  0.021398     -0.245489  \n",
              "Fare                   0.067115  0.021076     -0.182333  \n",
              "Embarked              -0.012540  0.121285     -0.116569  \n",
              "HasCabin               0.191287 -0.045148     -0.140391  \n",
              "FamilySize            -0.179884  0.101470     -0.200988  \n",
              "IsAlone                0.128043  0.074505      0.303646  \n",
              "CategoricalFare        0.068054 -0.045563     -0.243613  \n",
              "CategoricalAge         1.000000 -0.258633      0.045781  \n",
              "Title                 -0.258633  1.000000     -0.048128  \n",
              "SexNumerical           0.045781 -0.048128      1.000000  "
            ],
            "text/html": [
              "\n",
              "  <div id=\"df-abca04f4-4817-4be9-bebf-2ee1c033a72b\">\n",
              "    <div class=\"colab-df-container\">\n",
              "      <div>\n",
              "<style scoped>\n",
              "    .dataframe tbody tr th:only-of-type {\n",
              "        vertical-align: middle;\n",
              "    }\n",
              "\n",
              "    .dataframe tbody tr th {\n",
              "        vertical-align: top;\n",
              "    }\n",
              "\n",
              "    .dataframe thead th {\n",
              "        text-align: right;\n",
              "    }\n",
              "</style>\n",
              "<table border=\"1\" class=\"dataframe\">\n",
              "  <thead>\n",
              "    <tr style=\"text-align: right;\">\n",
              "      <th></th>\n",
              "      <th>Survived</th>\n",
              "      <th>Pclass</th>\n",
              "      <th>Age</th>\n",
              "      <th>Parch</th>\n",
              "      <th>Fare</th>\n",
              "      <th>Embarked</th>\n",
              "      <th>HasCabin</th>\n",
              "      <th>FamilySize</th>\n",
              "      <th>IsAlone</th>\n",
              "      <th>CategoricalFare</th>\n",
              "      <th>CategoricalAge</th>\n",
              "      <th>Title</th>\n",
              "      <th>SexNumerical</th>\n",
              "    </tr>\n",
              "  </thead>\n",
              "  <tbody>\n",
              "    <tr>\n",
              "      <th>Survived</th>\n",
              "      <td>1.000000</td>\n",
              "      <td>-0.338481</td>\n",
              "      <td>-0.061771</td>\n",
              "      <td>0.081629</td>\n",
              "      <td>0.257307</td>\n",
              "      <td>0.106811</td>\n",
              "      <td>0.316912</td>\n",
              "      <td>0.016639</td>\n",
              "      <td>-0.203367</td>\n",
              "      <td>0.299357</td>\n",
              "      <td>-0.028943</td>\n",
              "      <td>0.030949</td>\n",
              "      <td>-0.543351</td>\n",
              "    </tr>\n",
              "    <tr>\n",
              "      <th>Pclass</th>\n",
              "      <td>-0.338481</td>\n",
              "      <td>1.000000</td>\n",
              "      <td>-0.299575</td>\n",
              "      <td>0.018443</td>\n",
              "      <td>-0.549500</td>\n",
              "      <td>0.045702</td>\n",
              "      <td>-0.725541</td>\n",
              "      <td>0.065997</td>\n",
              "      <td>0.135207</td>\n",
              "      <td>-0.634271</td>\n",
              "      <td>-0.258409</td>\n",
              "      <td>0.075428</td>\n",
              "      <td>0.131900</td>\n",
              "    </tr>\n",
              "    <tr>\n",
              "      <th>Age</th>\n",
              "      <td>-0.061771</td>\n",
              "      <td>-0.299575</td>\n",
              "      <td>1.000000</td>\n",
              "      <td>-0.165092</td>\n",
              "      <td>0.074847</td>\n",
              "      <td>0.004051</td>\n",
              "      <td>0.221215</td>\n",
              "      <td>-0.234268</td>\n",
              "      <td>0.181377</td>\n",
              "      <td>0.054318</td>\n",
              "      <td>0.923139</td>\n",
              "      <td>-0.287545</td>\n",
              "      <td>0.066284</td>\n",
              "    </tr>\n",
              "    <tr>\n",
              "      <th>Parch</th>\n",
              "      <td>0.081629</td>\n",
              "      <td>0.018443</td>\n",
              "      <td>-0.165092</td>\n",
              "      <td>1.000000</td>\n",
              "      <td>0.216225</td>\n",
              "      <td>-0.078665</td>\n",
              "      <td>0.036987</td>\n",
              "      <td>0.783111</td>\n",
              "      <td>-0.583398</td>\n",
              "      <td>0.393881</td>\n",
              "      <td>-0.115120</td>\n",
              "      <td>0.021398</td>\n",
              "      <td>-0.245489</td>\n",
              "    </tr>\n",
              "    <tr>\n",
              "      <th>Fare</th>\n",
              "      <td>0.257307</td>\n",
              "      <td>-0.549500</td>\n",
              "      <td>0.074847</td>\n",
              "      <td>0.216225</td>\n",
              "      <td>1.000000</td>\n",
              "      <td>0.062142</td>\n",
              "      <td>0.482075</td>\n",
              "      <td>0.217138</td>\n",
              "      <td>-0.271832</td>\n",
              "      <td>0.579345</td>\n",
              "      <td>0.067115</td>\n",
              "      <td>0.021076</td>\n",
              "      <td>-0.182333</td>\n",
              "    </tr>\n",
              "    <tr>\n",
              "      <th>Embarked</th>\n",
              "      <td>0.106811</td>\n",
              "      <td>0.045702</td>\n",
              "      <td>0.004051</td>\n",
              "      <td>-0.078665</td>\n",
              "      <td>0.062142</td>\n",
              "      <td>1.000000</td>\n",
              "      <td>0.013774</td>\n",
              "      <td>-0.080281</td>\n",
              "      <td>0.017807</td>\n",
              "      <td>-0.098161</td>\n",
              "      <td>-0.012540</td>\n",
              "      <td>0.121285</td>\n",
              "      <td>-0.116569</td>\n",
              "    </tr>\n",
              "    <tr>\n",
              "      <th>HasCabin</th>\n",
              "      <td>0.316912</td>\n",
              "      <td>-0.725541</td>\n",
              "      <td>0.221215</td>\n",
              "      <td>0.036987</td>\n",
              "      <td>0.482075</td>\n",
              "      <td>0.013774</td>\n",
              "      <td>1.000000</td>\n",
              "      <td>-0.009175</td>\n",
              "      <td>-0.158029</td>\n",
              "      <td>0.500936</td>\n",
              "      <td>0.191287</td>\n",
              "      <td>-0.045148</td>\n",
              "      <td>-0.140391</td>\n",
              "    </tr>\n",
              "    <tr>\n",
              "      <th>FamilySize</th>\n",
              "      <td>0.016639</td>\n",
              "      <td>0.065997</td>\n",
              "      <td>-0.234268</td>\n",
              "      <td>0.783111</td>\n",
              "      <td>0.217138</td>\n",
              "      <td>-0.080281</td>\n",
              "      <td>-0.009175</td>\n",
              "      <td>1.000000</td>\n",
              "      <td>-0.690922</td>\n",
              "      <td>0.465396</td>\n",
              "      <td>-0.179884</td>\n",
              "      <td>0.101470</td>\n",
              "      <td>-0.200988</td>\n",
              "    </tr>\n",
              "    <tr>\n",
              "      <th>IsAlone</th>\n",
              "      <td>-0.203367</td>\n",
              "      <td>0.135207</td>\n",
              "      <td>0.181377</td>\n",
              "      <td>-0.583398</td>\n",
              "      <td>-0.271832</td>\n",
              "      <td>0.017807</td>\n",
              "      <td>-0.158029</td>\n",
              "      <td>-0.690922</td>\n",
              "      <td>1.000000</td>\n",
              "      <td>-0.560279</td>\n",
              "      <td>0.128043</td>\n",
              "      <td>0.074505</td>\n",
              "      <td>0.303646</td>\n",
              "    </tr>\n",
              "    <tr>\n",
              "      <th>CategoricalFare</th>\n",
              "      <td>0.299357</td>\n",
              "      <td>-0.634271</td>\n",
              "      <td>0.054318</td>\n",
              "      <td>0.393881</td>\n",
              "      <td>0.579345</td>\n",
              "      <td>-0.098161</td>\n",
              "      <td>0.500936</td>\n",
              "      <td>0.465396</td>\n",
              "      <td>-0.560279</td>\n",
              "      <td>1.000000</td>\n",
              "      <td>0.068054</td>\n",
              "      <td>-0.045563</td>\n",
              "      <td>-0.243613</td>\n",
              "    </tr>\n",
              "    <tr>\n",
              "      <th>CategoricalAge</th>\n",
              "      <td>-0.028943</td>\n",
              "      <td>-0.258409</td>\n",
              "      <td>0.923139</td>\n",
              "      <td>-0.115120</td>\n",
              "      <td>0.067115</td>\n",
              "      <td>-0.012540</td>\n",
              "      <td>0.191287</td>\n",
              "      <td>-0.179884</td>\n",
              "      <td>0.128043</td>\n",
              "      <td>0.068054</td>\n",
              "      <td>1.000000</td>\n",
              "      <td>-0.258633</td>\n",
              "      <td>0.045781</td>\n",
              "    </tr>\n",
              "    <tr>\n",
              "      <th>Title</th>\n",
              "      <td>0.030949</td>\n",
              "      <td>0.075428</td>\n",
              "      <td>-0.287545</td>\n",
              "      <td>0.021398</td>\n",
              "      <td>0.021076</td>\n",
              "      <td>0.121285</td>\n",
              "      <td>-0.045148</td>\n",
              "      <td>0.101470</td>\n",
              "      <td>0.074505</td>\n",
              "      <td>-0.045563</td>\n",
              "      <td>-0.258633</td>\n",
              "      <td>1.000000</td>\n",
              "      <td>-0.048128</td>\n",
              "    </tr>\n",
              "    <tr>\n",
              "      <th>SexNumerical</th>\n",
              "      <td>-0.543351</td>\n",
              "      <td>0.131900</td>\n",
              "      <td>0.066284</td>\n",
              "      <td>-0.245489</td>\n",
              "      <td>-0.182333</td>\n",
              "      <td>-0.116569</td>\n",
              "      <td>-0.140391</td>\n",
              "      <td>-0.200988</td>\n",
              "      <td>0.303646</td>\n",
              "      <td>-0.243613</td>\n",
              "      <td>0.045781</td>\n",
              "      <td>-0.048128</td>\n",
              "      <td>1.000000</td>\n",
              "    </tr>\n",
              "  </tbody>\n",
              "</table>\n",
              "</div>\n",
              "      <button class=\"colab-df-convert\" onclick=\"convertToInteractive('df-abca04f4-4817-4be9-bebf-2ee1c033a72b')\"\n",
              "              title=\"Convert this dataframe to an interactive table.\"\n",
              "              style=\"display:none;\">\n",
              "        \n",
              "  <svg xmlns=\"http://www.w3.org/2000/svg\" height=\"24px\"viewBox=\"0 0 24 24\"\n",
              "       width=\"24px\">\n",
              "    <path d=\"M0 0h24v24H0V0z\" fill=\"none\"/>\n",
              "    <path d=\"M18.56 5.44l.94 2.06.94-2.06 2.06-.94-2.06-.94-.94-2.06-.94 2.06-2.06.94zm-11 1L8.5 8.5l.94-2.06 2.06-.94-2.06-.94L8.5 2.5l-.94 2.06-2.06.94zm10 10l.94 2.06.94-2.06 2.06-.94-2.06-.94-.94-2.06-.94 2.06-2.06.94z\"/><path d=\"M17.41 7.96l-1.37-1.37c-.4-.4-.92-.59-1.43-.59-.52 0-1.04.2-1.43.59L10.3 9.45l-7.72 7.72c-.78.78-.78 2.05 0 2.83L4 21.41c.39.39.9.59 1.41.59.51 0 1.02-.2 1.41-.59l7.78-7.78 2.81-2.81c.8-.78.8-2.07 0-2.86zM5.41 20L4 18.59l7.72-7.72 1.47 1.35L5.41 20z\"/>\n",
              "  </svg>\n",
              "      </button>\n",
              "      \n",
              "  <style>\n",
              "    .colab-df-container {\n",
              "      display:flex;\n",
              "      flex-wrap:wrap;\n",
              "      gap: 12px;\n",
              "    }\n",
              "\n",
              "    .colab-df-convert {\n",
              "      background-color: #E8F0FE;\n",
              "      border: none;\n",
              "      border-radius: 50%;\n",
              "      cursor: pointer;\n",
              "      display: none;\n",
              "      fill: #1967D2;\n",
              "      height: 32px;\n",
              "      padding: 0 0 0 0;\n",
              "      width: 32px;\n",
              "    }\n",
              "\n",
              "    .colab-df-convert:hover {\n",
              "      background-color: #E2EBFA;\n",
              "      box-shadow: 0px 1px 2px rgba(60, 64, 67, 0.3), 0px 1px 3px 1px rgba(60, 64, 67, 0.15);\n",
              "      fill: #174EA6;\n",
              "    }\n",
              "\n",
              "    [theme=dark] .colab-df-convert {\n",
              "      background-color: #3B4455;\n",
              "      fill: #D2E3FC;\n",
              "    }\n",
              "\n",
              "    [theme=dark] .colab-df-convert:hover {\n",
              "      background-color: #434B5C;\n",
              "      box-shadow: 0px 1px 3px 1px rgba(0, 0, 0, 0.15);\n",
              "      filter: drop-shadow(0px 1px 2px rgba(0, 0, 0, 0.3));\n",
              "      fill: #FFFFFF;\n",
              "    }\n",
              "  </style>\n",
              "\n",
              "      <script>\n",
              "        const buttonEl =\n",
              "          document.querySelector('#df-abca04f4-4817-4be9-bebf-2ee1c033a72b button.colab-df-convert');\n",
              "        buttonEl.style.display =\n",
              "          google.colab.kernel.accessAllowed ? 'block' : 'none';\n",
              "\n",
              "        async function convertToInteractive(key) {\n",
              "          const element = document.querySelector('#df-abca04f4-4817-4be9-bebf-2ee1c033a72b');\n",
              "          const dataTable =\n",
              "            await google.colab.kernel.invokeFunction('convertToInteractive',\n",
              "                                                     [key], {});\n",
              "          if (!dataTable) return;\n",
              "\n",
              "          const docLinkHtml = 'Like what you see? Visit the ' +\n",
              "            '<a target=\"_blank\" href=https://colab.research.google.com/notebooks/data_table.ipynb>data table notebook</a>'\n",
              "            + ' to learn more about interactive tables.';\n",
              "          element.innerHTML = '';\n",
              "          dataTable['output_type'] = 'display_data';\n",
              "          await google.colab.output.renderOutput(dataTable, element);\n",
              "          const docLink = document.createElement('div');\n",
              "          docLink.innerHTML = docLinkHtml;\n",
              "          element.appendChild(docLink);\n",
              "        }\n",
              "      </script>\n",
              "    </div>\n",
              "  </div>\n",
              "  "
            ]
          },
          "metadata": {},
          "execution_count": 20
        }
      ]
    },
    {
      "cell_type": "markdown",
      "source": [
        "Positive and Negative values denote Positive and Negative correlation. The first row of the data shows the correlation of each variable with the Target variable ‘Survived’.\n",
        "\n",
        "For building a good predictive model, we are interested in variables that influence the target variable “Survived”. Positively or negatively. We need to consider the values that are both too high and too low."
      ],
      "metadata": {
        "id": "nKSSduRx1pgc"
      }
    },
    {
      "cell_type": "code",
      "source": [
        "# correlation heatmap using seaborn\n",
        "\n",
        "colormap = plt.cm.Blues\n",
        "plt.figure(figsize=(14,10))\n",
        "sns.heatmap(titanic.corr(), cmap=colormap, annot=True, linewidths=0.2)"
      ],
      "metadata": {
        "colab": {
          "base_uri": "https://localhost:8080/",
          "height": 680
        },
        "id": "HdTH6gI21qtP",
        "outputId": "f0976bd6-f34b-4f1a-e057-9f1def2b0616"
      },
      "execution_count": null,
      "outputs": [
        {
          "output_type": "execute_result",
          "data": {
            "text/plain": [
              "<matplotlib.axes._subplots.AxesSubplot at 0x7f4e8898ad90>"
            ]
          },
          "metadata": {},
          "execution_count": 21
        },
        {
          "output_type": "display_data",
          "data": {
            "text/plain": [
              "<Figure size 1008x720 with 2 Axes>"
            ],
            "image/png": "[encoded data removed]"
          },
          "metadata": {
            "needs_background": "light"
          }
        }
      ]
    },
    {
      "cell_type": "markdown",
      "source": [
        "The first row contains the values that represent the correlation of each variable with the target variable. ‘HasCabin’ and ‘CategoricalFare’ are highly (positively) correlated with the target variable and ‘Sex Numerical’ is inversely correlated with the target variable."
      ],
      "metadata": {
        "id": "MgZIbslX2Chk"
      }
    },
    {
      "cell_type": "markdown",
      "source": [
        "**4. Target Variable Analysis (Univariate Analysis)**"
      ],
      "metadata": {
        "id": "J10dv_o-2G_-"
      }
    },
    {
      "cell_type": "code",
      "source": [
        "# The Study of the target variable is a significant step in Data Analysis \n",
        "#that reveals the nature and distribution of the variable.\n",
        "# Let’s analyze our target variable “Survived”.\n",
        "\n",
        "titanic['Survived'].value_counts()"
      ],
      "metadata": {
        "colab": {
          "base_uri": "https://localhost:8080/"
        },
        "id": "XCMPsF3D2Ks1",
        "outputId": "08357e8a-f60a-4f19-bd23-5a2a10c5e662"
      },
      "execution_count": null,
      "outputs": [
        {
          "output_type": "execute_result",
          "data": {
            "text/plain": [
              "0    549\n",
              "1    342\n",
              "Name: Survived, dtype: int64"
            ]
          },
          "metadata": {},
          "execution_count": 22
        }
      ]
    },
    {
      "cell_type": "code",
      "source": [
        "# From the above result, 342 out of 891 passengers in the training data are survived. \n",
        "# Let's plot it using count plot.\n",
        "sns.countplot('Survived', data=titanic)\n",
        "plt.title(\"Titanic Survived\")\n",
        "plt.show()"
      ],
      "metadata": {
        "colab": {
          "base_uri": "https://localhost:8080/",
          "height": 350
        },
        "id": "WpedIBG22e5M",
        "outputId": "0a3646d7-10c1-4b9d-f5b4-3df89e523ca2"
      },
      "execution_count": null,
      "outputs": [
        {
          "output_type": "stream",
          "name": "stderr",
          "text": [
            "/usr/local/lib/python3.8/dist-packages/seaborn/_decorators.py:36: FutureWarning: Pass the following variable as a keyword arg: x. From version 0.12, the only valid positional argument will be `data`, and passing other arguments without an explicit keyword will result in an error or misinterpretation.\n",
            "  warnings.warn(\n"
          ]
        },
        {
          "output_type": "display_data",
          "data": {
            "text/plain": [
              "<Figure size 432x288 with 1 Axes>"
            ],
            "image/png": "[encoded data removed]"
          },
          "metadata": {
            "needs_background": "light"
          }
        }
      ]
    },
    {
      "cell_type": "markdown",
      "source": [
        "From the above plot, the number of people who survived is less than the number of people who are died. Now let's see what percentage of passengers survived using a pie plot."
      ],
      "metadata": {
        "id": "fMb7F--r2p50"
      }
    },
    {
      "cell_type": "code",
      "source": [
        "explode = [0, 0.05]\n",
        "titanic['Survived'].value_counts().plot.pie(autopct = '%1.2f%%', explode=explode)"
      ],
      "metadata": {
        "colab": {
          "base_uri": "https://localhost:8080/",
          "height": 265
        },
        "id": "8AMZNFIO2qx0",
        "outputId": "3b9f904a-7a29-4e84-e957-1258f1138cc6"
      },
      "execution_count": null,
      "outputs": [
        {
          "output_type": "execute_result",
          "data": {
            "text/plain": [
              "<matplotlib.axes._subplots.AxesSubplot at 0x7f4e84aca340>"
            ]
          },
          "metadata": {},
          "execution_count": 24
        },
        {
          "output_type": "display_data",
          "data": {
            "text/plain": [
              "<Figure size 432x288 with 1 Axes>"
            ],
            "image/png": "[encoded data removed]"
          },
          "metadata": {}
        }
      ]
    },
    {
      "cell_type": "markdown",
      "source": [
        "From the above chart, 38% of the passengers are only survived based on this training data. Clearly, there is an imbalance between the classes."
      ],
      "metadata": {
        "id": "dK05ozS12xW-"
      }
    },
    {
      "cell_type": "markdown",
      "source": [
        "**5. Bivariate Analysis**"
      ],
      "metadata": {
        "id": "ys6ebT5i25K0"
      }
    },
    {
      "cell_type": "code",
      "source": [
        "# Let's analyze the ‘Pclass’ column since it is highly correlated with the target variable.\n",
        "\n",
        "titanic['Pclass'].value_counts()"
      ],
      "metadata": {
        "colab": {
          "base_uri": "https://localhost:8080/"
        },
        "id": "lyroLvAP26Kk",
        "outputId": "8b573c62-2d58-4a97-85c4-026819e01e10"
      },
      "execution_count": null,
      "outputs": [
        {
          "output_type": "execute_result",
          "data": {
            "text/plain": [
              "3    491\n",
              "1    216\n",
              "2    184\n",
              "Name: Pclass, dtype: int64"
            ]
          },
          "metadata": {},
          "execution_count": 25
        }
      ]
    },
    {
      "cell_type": "code",
      "source": [
        "titanic.groupby(['Pclass', 'Survived'])['Survived'].count()"
      ],
      "metadata": {
        "colab": {
          "base_uri": "https://localhost:8080/"
        },
        "id": "b3C3h1qK3EDE",
        "outputId": "2416ddf7-c862-43fa-f11b-e182f204456a"
      },
      "execution_count": null,
      "outputs": [
        {
          "output_type": "execute_result",
          "data": {
            "text/plain": [
              "Pclass  Survived\n",
              "1       0            80\n",
              "        1           136\n",
              "2       0            97\n",
              "        1            87\n",
              "3       0           372\n",
              "        1           119\n",
              "Name: Survived, dtype: int64"
            ]
          },
          "metadata": {},
          "execution_count": 26
        }
      ]
    },
    {
      "cell_type": "markdown",
      "source": [
        "The above result shows the breakup of passengers based on Pclass and Survived. But still, we cannot see the percentage of survival with this data. So let's plot Pclass along with the Survived to have a better picture of the data."
      ],
      "metadata": {
        "id": "Z_9mHYBt3KNc"
      }
    },
    {
      "cell_type": "code",
      "source": [
        "sns.catplot(x='Pclass', y='Survived', data=titanic, kind='point')"
      ],
      "metadata": {
        "colab": {
          "base_uri": "https://localhost:8080/",
          "height": 386
        },
        "id": "QKRcWt713N5M",
        "outputId": "7ac19fa6-f732-4897-b254-d5abe80df4b9"
      },
      "execution_count": null,
      "outputs": [
        {
          "output_type": "execute_result",
          "data": {
            "text/plain": [
              "<seaborn.axisgrid.FacetGrid at 0x7f4e84b1d850>"
            ]
          },
          "metadata": {},
          "execution_count": 27
        },
        {
          "output_type": "display_data",
          "data": {
            "text/plain": [
              "<Figure size 360x360 with 1 Axes>"
            ],
            "image/png": "[encoded data removed]"
          },
          "metadata": {
            "needs_background": "light"
          }
        }
      ]
    },
    {
      "cell_type": "markdown",
      "source": [
        "It shows point estimates and confidence intervals. The point estimates indicate the central tendency of a variable while the confidence intervals indicate the uncertainty around this estimate. From the above plot, it is very clear that the first Class passengers had the highest Survival rate when compared to the other class passengers."
      ],
      "metadata": {
        "id": "OoBp7qwa3YhV"
      }
    },
    {
      "cell_type": "code",
      "source": [
        "# Let's see one more example of bivariate analysis by comparing Sex and Fare.\n",
        "\n",
        "sns.catplot(x='Sex', y='Fare', data=titanic, kind='boxen')"
      ],
      "metadata": {
        "colab": {
          "base_uri": "https://localhost:8080/",
          "height": 386
        },
        "id": "MIIwcDlj3Zb1",
        "outputId": "8b496ffd-82ba-4b1c-bad5-40628a781f09"
      },
      "execution_count": null,
      "outputs": [
        {
          "output_type": "execute_result",
          "data": {
            "text/plain": [
              "<seaborn.axisgrid.FacetGrid at 0x7f4e84d96a00>"
            ]
          },
          "metadata": {},
          "execution_count": 28
        },
        {
          "output_type": "display_data",
          "data": {
            "text/plain": [
              "<Figure size 360x360 with 1 Axes>"
            ],
            "image/png": "[encoded data removed]"
          },
          "metadata": {
            "needs_background": "light"
          }
        }
      ]
    },
    {
      "cell_type": "markdown",
      "source": [
        "The enhanced box plot shown above indicates that the fare of “Female” passengers is on average higher than male passengers. It could be because of the additional services offered to female passengers."
      ],
      "metadata": {
        "id": "bWl4djcf3kXj"
      }
    },
    {
      "cell_type": "markdown",
      "source": [
        "**6. Multivariate Analysis**\n",
        "\n",
        "Multivariate Analysis helps us in mining for a deeper understanding of the relationship between variables when compared to Bivariate Analysis. The latter assumes that the relationship between a variable X and the target variable Y is independent of the rest of the variables, (i.e) f(X, Y) doesn't depend on a third variable Z. This limiting assumption could be dangerous. For instance, “Women and children first” is a naval code of conduct followed since 1852, whereby the lives of women and children were to be saved first in a life-threatening situation. As we already know, “Survival” is highly correlated with “Sex”. But a third variable “Age” (child) influences the relationship between “Survival” and “Sex”."
      ],
      "metadata": {
        "id": "SqZpez7p3rTk"
      }
    },
    {
      "cell_type": "code",
      "source": [
        "#analyze the data with three variables, and then we will learn to model the relationship\n",
        "# between four variables. Let's compare ‘Sex’ and ‘Age’.\n",
        "\n",
        "sns.catplot(x='Sex', y='Age', data=titanic)"
      ],
      "metadata": {
        "colab": {
          "base_uri": "https://localhost:8080/",
          "height": 386
        },
        "id": "XGuLV8wI3v7u",
        "outputId": "d9b9fbac-7112-43aa-e5f9-84a6ea45508b"
      },
      "execution_count": null,
      "outputs": [
        {
          "output_type": "execute_result",
          "data": {
            "text/plain": [
              "<seaborn.axisgrid.FacetGrid at 0x7f4e84d96e20>"
            ]
          },
          "metadata": {},
          "execution_count": 29
        },
        {
          "output_type": "display_data",
          "data": {
            "text/plain": [
              "<Figure size 360x360 with 1 Axes>"
            ],
            "image/png": "[encoded data removed]"
          },
          "metadata": {
            "needs_background": "light"
          }
        }
      ]
    },
    {
      "cell_type": "markdown",
      "source": [
        "From the above graph, we can see that some of the very old men were traveling. But we couldn't get much information by comparing age and sex."
      ],
      "metadata": {
        "id": "LcYADm-S4Fz_"
      }
    },
    {
      "cell_type": "code",
      "source": [
        "# let's include the third parameter “Pclass” and try to understand it better.\n",
        "\n",
        "sns.catplot(x='Sex', y='Age', data=titanic, kind='box', hue='Pclass')"
      ],
      "metadata": {
        "colab": {
          "base_uri": "https://localhost:8080/",
          "height": 386
        },
        "id": "rGLhIcta4Gl8",
        "outputId": "84b37575-fa12-4b7c-d0fd-a5291de457cf"
      },
      "execution_count": null,
      "outputs": [
        {
          "output_type": "execute_result",
          "data": {
            "text/plain": [
              "<seaborn.axisgrid.FacetGrid at 0x7f4e84f89730>"
            ]
          },
          "metadata": {},
          "execution_count": 30
        },
        {
          "output_type": "display_data",
          "data": {
            "text/plain": [
              "<Figure size 402.375x360 with 1 Axes>"
            ],
            "image/png": "[encoded data removed]"
          },
          "metadata": {
            "needs_background": "light"
          }
        }
      ]
    },
    {
      "cell_type": "markdown",
      "source": [
        "From the above plot, we infer that most of the older people were traveling in first class. It may be because they were rich. The youngsters who are aged between 25 and 35 were mostly traveling in second and third classes."
      ],
      "metadata": {
        "id": "3fJVYDn24aSk"
      }
    },
    {
      "cell_type": "code",
      "source": [
        "# we can see it better using a violin plot.\n",
        "\n",
        "sns.catplot(x='Pclass', y='Age', data=titanic, kind='violin', hue='Sex')"
      ],
      "metadata": {
        "colab": {
          "base_uri": "https://localhost:8080/",
          "height": 386
        },
        "id": "namXzhWb4bd2",
        "outputId": "7ba857ae-7f40-49cc-c520-78c75d5186e6"
      },
      "execution_count": null,
      "outputs": [
        {
          "output_type": "execute_result",
          "data": {
            "text/plain": [
              "<seaborn.axisgrid.FacetGrid at 0x7f4eba295b20>"
            ]
          },
          "metadata": {},
          "execution_count": 31
        },
        {
          "output_type": "display_data",
          "data": {
            "text/plain": [
              "<Figure size 430.5x360 with 1 Axes>"
            ],
            "image/png": "[encoded data removed]"
          },
          "metadata": {
            "needs_background": "light"
          }
        }
      ]
    },
    {
      "cell_type": "code",
      "source": [
        "# Now let's see how to compare four variables. Let's take ‘Age’ and ‘Fare’.\n",
        "# Note that both are continuous variables.\n",
        "\n",
        "sns.jointplot(x='Age', y='Fare', data=titanic, kind='hex')"
      ],
      "metadata": {
        "colab": {
          "base_uri": "https://localhost:8080/",
          "height": 458
        },
        "id": "mZeNKYzh4mi8",
        "outputId": "fdfdbe73-7eb9-450b-ea0c-ceb8adbd93c0"
      },
      "execution_count": null,
      "outputs": [
        {
          "output_type": "execute_result",
          "data": {
            "text/plain": [
              "<seaborn.axisgrid.JointGrid at 0x7f4e7cf973a0>"
            ]
          },
          "metadata": {},
          "execution_count": 33
        },
        {
          "output_type": "display_data",
          "data": {
            "text/plain": [
              "<Figure size 432x432 with 3 Axes>"
            ],
            "image/png": "[encoded data removed]"
          },
          "metadata": {
            "needs_background": "light"
          }
        }
      ]
    },
    {
      "cell_type": "markdown",
      "source": [
        "The average passengers were aged between 20 and 40, the average Fare is about $20 to $50. We couldn't understand much from the previous plot. I present below a better view of the data that includes “Sex” and “Pclass” along with “Age” and “Fare”."
      ],
      "metadata": {
        "id": "nv3WLFol5AE0"
      }
    },
    {
      "cell_type": "code",
      "source": [
        "sns.relplot(x='Age', y='Fare', data=titanic, row='Sex', col='Pclass')"
      ],
      "metadata": {
        "colab": {
          "base_uri": "https://localhost:8080/",
          "height": 661
        },
        "id": "GcbSVbNp5A31",
        "outputId": "5f8ca726-1c1a-40e4-e304-6073de8aa5a3"
      },
      "execution_count": null,
      "outputs": [
        {
          "output_type": "execute_result",
          "data": {
            "text/plain": [
              "<seaborn.axisgrid.FacetGrid at 0x7f4e7cc97220>"
            ]
          },
          "metadata": {},
          "execution_count": 34
        },
        {
          "output_type": "display_data",
          "data": {
            "text/plain": [
              "<Figure size 1080x720 with 6 Axes>"
            ],
            "image/png": "[encoded data removed]"
          },
          "metadata": {
            "needs_background": "light"
          }
        }
      ]
    },
    {
      "cell_type": "markdown",
      "source": [
        "From the above plots, we observe that there were more male passengers who traveled in first-class than women passengers. The Fare for first-class female passengers was higher than male passengers. There is no big difference in Fare for second and third-class passengers. Very few children traveled in first class. The third class had more children. Most of the second and third-class passengers were aged between 20 and 40."
      ],
      "metadata": {
        "id": "r7ckHkK35LdV"
      }
    }
  ]
}